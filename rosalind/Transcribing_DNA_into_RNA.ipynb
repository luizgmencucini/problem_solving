{
  "nbformat": 4,
  "nbformat_minor": 0,
  "metadata": {
    "colab": {
      "provenance": []
    },
    "kernelspec": {
      "name": "python3",
      "display_name": "Python 3"
    },
    "language_info": {
      "name": "python"
    }
  },
  "cells": [
    {
      "cell_type": "markdown",
      "source": [
        "Problem\n",
        "An RNA string is a string formed from the alphabet containing 'A', 'C', 'G', and 'U'.\n",
        "\n",
        "Given a DNA string t\n",
        " corresponding to a coding strand, its transcribed RNA string u\n",
        " is formed by replacing all occurrences of 'T' in t\n",
        " with 'U' in u\n",
        ".\n",
        "\n",
        "Given: A DNA string t\n",
        " having length at most 1000 nt.\n",
        "\n",
        "Return: The transcribed RNA string of t\n",
        ".\n",
        "\n",
        "Sample Dataset\n",
        "GATGGAACTTGACTACGTAAATT\n",
        "Sample Output\n",
        "GAUGGAACUUGACUACGUAAAUU"
      ],
      "metadata": {
        "id": "Mg5mTNJyysa5"
      }
    },
    {
      "cell_type": "code",
      "execution_count": 5,
      "metadata": {
        "id": "D1Ymwu3zv-aM"
      },
      "outputs": [],
      "source": [
        "DNA = 'GTAATAGGCTAGCCCTTGGTACAAGTGTGGTGCGCGTCGCAGAGCCGAATAGCCAGGCTTTGAAAAAAATAAGACAACAAACAGTCTAGAACTGTAGGACTCCGGCATATTTGGAAGAACACGTACTTCTCGGACCTTCTGGAATATCACTTGTTATGCCACCTTCCGTTGAGAGTAAATGGTTACACGATTCCCAACTAGGGCTGGTGCTGCTCCTCTCGCGTGGGATCCCACCTGCTATAGGCAAATCTGCAGCGGCTAGCACGGACCCCATTCGGATTTATCCATCAGCACTCGCGCTTAACAGATATTGGGATGAGGATTAGCGCCCATCAGCTAAAAATATCTGCCCAACCGTATCATCTGCAAGATAGCAGATAGCTAGCGGGTGACACATTAGTTCACAGAGAGAACCGAGGGACTACATTTCTAATACGCCATCTTCCGATTAGACTGTACGATACGTACCCACGATTACGTGGAATCATTCGTCGCCCGTTATATTACAGGCTTTCGTGATGAGCCCTTAACACTAATACAAACCTGTAAAGGTCGTATCTGCTAGGCGCCGAATCATCCTGTGTACTTCCAGCACCGGTTCTGTATTTGCATGCTGAATGTCGCACCTCGTAAAGGTATCGATGTCGATGGTCAAATCTTAACCAGTGGAAGTGTCTACAAGCAGAGCCTTAACCATTGACATACTGAGACGTAGACTGGGGCGCAGGTACCGGGAAATGTCGCGAAGCAGCAAACAGCCCCTGGTACGTGTGTACCGCGGAGTCAGAGAAGCAGCAAATATTGCAAAGCTTGTGCTGTCAGTTGCGGGCAGTATTGTTGTCCTAACTTTGAGGCATCTCGTGCTCGACTAAGTGTCAGATTAAACACATCATGATAGTACTACTGCTCCCGAACGAACGGGACCAATCACACCTTACGGGTGTACTACTCGCGTTGGACGTGG'"
      ]
    },
    {
      "cell_type": "code",
      "source": [
        "RNA = ''\n",
        "for base in DNA:\n",
        "  if base == 'T':\n",
        "    RNA+='U'\n",
        "  else:\n",
        "    RNA+=base"
      ],
      "metadata": {
        "id": "AX1JFbn1y1Za"
      },
      "execution_count": 6,
      "outputs": []
    },
    {
      "cell_type": "code",
      "source": [
        "RNA"
      ],
      "metadata": {
        "colab": {
          "base_uri": "https://localhost:8080/",
          "height": 105
        },
        "id": "ZQounuKLzxAb",
        "outputId": "87238b71-41b7-49bb-9269-87077face639"
      },
      "execution_count": 7,
      "outputs": [
        {
          "output_type": "execute_result",
          "data": {
            "text/plain": [
              "'GUAAUAGGCUAGCCCUUGGUACAAGUGUGGUGCGCGUCGCAGAGCCGAAUAGCCAGGCUUUGAAAAAAAUAAGACAACAAACAGUCUAGAACUGUAGGACUCCGGCAUAUUUGGAAGAACACGUACUUCUCGGACCUUCUGGAAUAUCACUUGUUAUGCCACCUUCCGUUGAGAGUAAAUGGUUACACGAUUCCCAACUAGGGCUGGUGCUGCUCCUCUCGCGUGGGAUCCCACCUGCUAUAGGCAAAUCUGCAGCGGCUAGCACGGACCCCAUUCGGAUUUAUCCAUCAGCACUCGCGCUUAACAGAUAUUGGGAUGAGGAUUAGCGCCCAUCAGCUAAAAAUAUCUGCCCAACCGUAUCAUCUGCAAGAUAGCAGAUAGCUAGCGGGUGACACAUUAGUUCACAGAGAGAACCGAGGGACUACAUUUCUAAUACGCCAUCUUCCGAUUAGACUGUACGAUACGUACCCACGAUUACGUGGAAUCAUUCGUCGCCCGUUAUAUUACAGGCUUUCGUGAUGAGCCCUUAACACUAAUACAAACCUGUAAAGGUCGUAUCUGCUAGGCGCCGAAUCAUCCUGUGUACUUCCAGCACCGGUUCUGUAUUUGCAUGCUGAAUGUCGCACCUCGUAAAGGUAUCGAUGUCGAUGGUCAAAUCUUAACCAGUGGAAGUGUCUACAAGCAGAGCCUUAACCAUUGACAUACUGAGACGUAGACUGGGGCGCAGGUACCGGGAAAUGUCGCGAAGCAGCAAACAGCCCCUGGUACGUGUGUACCGCGGAGUCAGAGAAGCAGCAAAUAUUGCAAAGCUUGUGCUGUCAGUUGCGGGCAGUAUUGUUGUCCUAACUUUGAGGCAUCUCGUGCUCGACUAAGUGUCAGAUUAAACACAUCAUGAUAGUACUACUGCUCCCGAACGAACGGGACCAAUCACACCUUACGGGUGUACUACUCGCGUUGGACGUGG'"
            ],
            "application/vnd.google.colaboratory.intrinsic+json": {
              "type": "string"
            }
          },
          "metadata": {},
          "execution_count": 7
        }
      ]
    },
    {
      "cell_type": "code",
      "source": [],
      "metadata": {
        "id": "qShkE8fJzxly"
      },
      "execution_count": null,
      "outputs": []
    }
  ]
}