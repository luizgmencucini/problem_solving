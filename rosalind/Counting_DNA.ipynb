{
  "nbformat": 4,
  "nbformat_minor": 0,
  "metadata": {
    "colab": {
      "provenance": []
    },
    "kernelspec": {
      "name": "python3",
      "display_name": "Python 3"
    },
    "language_info": {
      "name": "python"
    }
  },
  "cells": [
    {
      "cell_type": "markdown",
      "source": [
        "Problem\n",
        "A string is simply an ordered collection of symbols selected from some alphabet and formed into a word; the length of a string is the number of symbols that it contains.\n",
        "\n",
        "An example of a length 21 DNA string (whose alphabet contains the symbols 'A', 'C', 'G', and 'T') is \"ATGCTTCAGAAAGGTCTTACG.\"\n",
        "\n",
        "Given: A DNA string s\n",
        " of length at most 1000 nt.\n",
        "\n",
        "Return: Four integers (separated by spaces) counting the respective number of times that the symbols 'A', 'C', 'G', and 'T' occur in s\n",
        ".\n",
        "\n"
      ],
      "metadata": {
        "id": "x0u_TTamtNAq"
      }
    },
    {
      "cell_type": "code",
      "execution_count": 15,
      "metadata": {
        "id": "WU6whDnGtGu6"
      },
      "outputs": [],
      "source": [
        "DNA = 'CAATTCGTCACACACAAGTTTCGCGCCAAGTTTAAGTGAAGGCACTCAATAAAATGTTTGGGGAGCTCGGTGCCATGCTCCCATATAGGGTCCGCCTCCGCAAGATGAAGCCCAGAACGCACCGCCTTCGGTGTTATTTGAACTGCTGACATTTCTCACACATACATGGCCTTCCCTAGCAGAAAGGGTCGCTGCTAATTGGAAGCCCCTGGTGCATACCTGGTGTAGAATTCCTGGGATCGTGACGGACTGTATTGTCATGATACCCAAAAGGCTGTGTACCCAGCTCGAATTGGTAAGGACACATCATCTTAAGTTTGACGCGACCCGTGTGTCGGCCCATATCAAAACCGGGGCACGTGTCTGCTGTCCGGTAACAGTGGTGGTCATCGGGGCGCGTCTCCCGTGCTGACGTCCCAATTGTCTAGCGAATTGAAGCTGATGATAGGGACGGCCGCAAGAGCTCTGTTATGTCGCCTAACTGAGAAAATGCCCAGCGTGGACGTGCGGCGCCTACGATCGGTGGTGCTTAGAATCGGTACAGCCTTACTTTTAGGTTGCGATTCTCCGTAATCCGGGGCTGCCATTTAGTCCTTTACATCCTGACAACTTATCGTCTTGCCAGTAGACCACCCGAGAATCACCGATTTTAGTTAGCTATTATGTGAAGCTGTGTATCGGCTAGGTACGTATCCAGCTGATCTGGCGTTTGCCTCCAGACTCACGGGCGAGGCCGCTTTCGTGAGTTTCGGAACAATCGATGATCGATGCGGACTTGATTGTATCCAATAGTTGATATTTTTACAAAGGAGAGTTTTTCATGCTAGCGGTGGCATTGCCGATAACACTGATGCCTGCGTGTTGGAGTGAAGAACTTGGACATTAGTTCACATCCACTGGTTGCTACTCGCCAGGGTTTCACGGTACAACGTTTTAAAGTGAGAGTCGA'"
      ]
    },
    {
      "cell_type": "code",
      "source": [
        "print(f\"{DNA.count('A')} {DNA.count('C')} {DNA.count('G')} {DNA.count('T')}\")"
      ],
      "metadata": {
        "colab": {
          "base_uri": "https://localhost:8080/"
        },
        "id": "A4z1o7T6uup9",
        "outputId": "c7169f9c-32fc-40c0-d01d-5663e100b171"
      },
      "execution_count": 18,
      "outputs": [
        {
          "output_type": "stream",
          "name": "stdout",
          "text": [
            "217 230 249 253\n"
          ]
        }
      ]
    },
    {
      "cell_type": "code",
      "source": [],
      "metadata": {
        "id": "YQMExPcCu3W3"
      },
      "execution_count": null,
      "outputs": []
    }
  ]
}